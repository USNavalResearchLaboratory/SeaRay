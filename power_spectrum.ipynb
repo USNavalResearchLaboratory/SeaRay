{
 "cells": [
  {
   "cell_type": "markdown",
   "metadata": {},
   "source": [
    "The source code is in the public domain and not licensed or under\n",
    "copyright. The information and software may be used freely by the public.\n",
    "As required by 17 U.S.C. 403, third parties producing copyrighted works\n",
    "consisting predominantly of the material produced by U.S. government\n",
    "agencies must provide notice with such work(s) identifying the U.S.\n",
    "Government material incorporated and stating that such material is not\n",
    "subject to copyright protection.\n",
    "\n",
    "Derived works shall not identify themselves in a manner that implies an\n",
    "endorsement by or an affiliation with the Naval Research Laboratory.\n",
    "\n",
    "RECIPIENT BEARS ALL RISK RELATING TO QUALITY AND PERFORMANCE OF THE\n",
    "SOFTWARE AND ANY RELATED MATERIALS, AND AGREES TO INDEMNIFY THE NAVAL\n",
    "RESEARCH LABORATORY FOR ALL THIRD-PARTY CLAIMS RESULTING FROM THE ACTIONS\n",
    "OF RECIPIENT IN THE USE OF THE SOFTWARE."
   ]
  },
  {
   "cell_type": "code",
   "execution_count": 26,
   "metadata": {
    "scrolled": false
   },
   "outputs": [],
   "source": [
    "import numpy as np\n",
    "import matplotlib as mpl\n",
    "import matplotlib.pyplot as plt\n",
    "import glob\n",
    "from scipy import constants as C\n",
    "import scipy.interpolate\n",
    "# The following line provides interactive plots, and requires the ipympl package.\n",
    "%matplotlib widget\n",
    "\n",
    "#lbl3 = [r'$x_1$ (mm)',r'$x_2$ (mm)',r'$x_3$ (mm)']\n",
    "lbl3 = [r'$\\varrho$ (mm)',r'$\\varphi$',r'$z$ (mm)']\n",
    "max_microns = 18\n",
    "\n",
    "mks_length = 0.8e-6/(2*np.pi)\n",
    "#mks_length = 10.6e-6/(2*np.pi)\n",
    "base_diagnostic = 'out/test'\n",
    "uppe_list = glob.glob(base_diagnostic+'*_uppe_wave*.npy')\n",
    "para_list = glob.glob(base_diagnostic+'*_paraxial_wave*.npy')\n",
    "total_list = uppe_list + para_list\n",
    "if 'uppe' in total_list[0]:\n",
    "    real_field = True\n",
    "else:\n",
    "    real_field = False\n",
    "\n",
    "mpl.rcParams['text.usetex'] = False\n",
    "mpl.rcParams['font.size'] = 12\n",
    "l1_mm = 1e3*mks_length\n",
    "t1_ps = 1e12*mks_length/C.c\n",
    "\n",
    "def get_freq_time_data(A,ext):\n",
    "    if real_field:\n",
    "        # Nodes are like [0,1,2,3] and walls are like [-0.5,0.5,1.5,2.5,3.5]\n",
    "        # In these examples the user's requested upper bound would be 4 (it is thrown out)\n",
    "        # Therefore element N/2+1 should be regarded as the central frequency\n",
    "        dw = (ext[1] - ext[0])/A.shape[0]\n",
    "        wc = 0.5*ext[0] + 0.5*(ext[1] + dw)\n",
    "        tmax = 2*np.pi/dw\n",
    "        w_nodes = np.linspace(ext[0]+dw/2,ext[1]-dw/2,A.shape[0])\n",
    "        return dw,wc,tmax,w_nodes\n",
    "    else:\n",
    "        # Nodes are like [-2,-1,0,1] and walls are like [-2.5,-1.5,-.5,.5,1.5]\n",
    "        dw = (ext[1] - ext[0])/A.shape[0]\n",
    "        wc = 0.5*ext[0] + 0.5*(ext[1] + dw)\n",
    "        tmax = 2*np.pi/dw\n",
    "        w_nodes = np.linspace(ext[0]+dw/2,ext[1]-dw/2,A.shape[0])\n",
    "        return dw,wc,tmax,w_nodes\n",
    "\n",
    "file = total_list[0]\n",
    "A = np.load(file)\n",
    "s = file.split('_')\n",
    "data_ext_name = s[0] + '_' + s[1] + '_' + s[2] + '_plot_ext.npy'\n",
    "data_ext = np.load(data_ext_name)\n",
    "\n",
    "dw,wc,tmax,wn = get_freq_time_data(A,data_ext)\n",
    "wn += 1e-9\n",
    "\n",
    "def get_spectral_power(z,rmin):\n",
    "    # Specializing for cylindrical right now\n",
    "    # Units will not be correct without applying scale factor externally (see below)\n",
    "    Ew2 = (np.abs(A[...,z]*wn[...,np.newaxis,np.newaxis])**2)[::-1]\n",
    "    l_array_nu = (1000*l1_mm*2*np.pi/wn)[::-1]\n",
    "    l_array = np.linspace(l_array_nu[0],max_microns,Ew2.shape[0])\n",
    "    for i in range(Ew2.shape[1]):\n",
    "        for j in range(Ew2.shape[2]):\n",
    "                fi = scipy.interpolate.interp1d(l_array_nu,Ew2[:,i,j])\n",
    "                Ew2[:,i,j] = fi(l_array)/l_array\n",
    "    dr = (data_ext[3]-data_ext[2])/Ew2.shape[1]\n",
    "    r = np.linspace(data_ext[2]+0.5*dr,data_ext[3]-0.5*dr,Ew2.shape[1])\n",
    "    dS = (np.pi*(r+0.5*dr)**2 - np.pi*(r-0.5*dr)**2)\n",
    "    r_idx = np.searchsorted(r,rmin)\n",
    "    return l_array,np.sum(Ew2[:,r_idx:,0]*dS[np.newaxis,r_idx:],axis=1)\n",
    "\n",
    "def get_power(z):\n",
    "    # Specializing for cylindrical right now\n",
    "    E2 = np.fft.irfft(1j*wn[...,np.newaxis,np.newaxis]*A[...,z],axis=0)**2\n",
    "    E2 *= (C.m_e*C.c**2/mks_length/C.e)**2\n",
    "    intensity_mks = E2/377\n",
    "    dr = (data_ext[3]-data_ext[2])/E2.shape[1]\n",
    "    r = np.linspace(data_ext[2]+0.5*dr,data_ext[3]-0.5*dr,E2.shape[1])\n",
    "    dS_mks = mks_length**2*(np.pi*(r+0.5*dr)**2 - np.pi*(r-0.5*dr)**2)\n",
    "    return np.sum(intensity_mks*dS_mks[np.newaxis,:,np.newaxis],axis=(1,2))\n",
    "\n",
    "plt.close('all')"
   ]
  },
  {
   "cell_type": "code",
   "execution_count": 27,
   "metadata": {},
   "outputs": [
    {
     "name": "stdout",
     "output_type": "stream",
     "text": [
      "Pulse energy = 0.008511608370420925\n"
     ]
    }
   ],
   "source": [
    "power = get_power(0)\n",
    "U00 = np.sum(power)*tmax*mks_length/C.c/power.shape[0]\n",
    "print('Pulse energy =',U00)"
   ]
  },
  {
   "cell_type": "code",
   "execution_count": 28,
   "metadata": {},
   "outputs": [
    {
     "data": {
      "application/vnd.jupyter.widget-view+json": {
       "model_id": "d1a692f0a2ef4a5cb86a52b0f5ded0c5",
       "version_major": 2,
       "version_minor": 0
      },
      "text/plain": [
       "Canvas(toolbar=Toolbar(toolitems=[('Home', 'Reset original view', 'home', 'home'), ('Back', 'Back to previous …"
      ]
     },
     "metadata": {},
     "output_type": "display_data"
    },
    {
     "data": {
      "text/plain": [
       "<matplotlib.legend.Legend at 0x7f366196d520>"
      ]
     },
     "execution_count": 28,
     "metadata": {},
     "output_type": "execute_result"
    }
   ],
   "source": [
    "Nz = A.shape[3]\n",
    "dz_mks = mks_length*(data_ext[7]-data_ext[6])/(Nz-1)\n",
    "z00 = mks_length*data_ext[6]\n",
    "\n",
    "# Spectral calibration\n",
    "ln,power = get_spectral_power(0,0.0)\n",
    "U00w = np.sum(power)*(ln[1]-ln[0])\n",
    "spcal = U00/U00w\n",
    "\n",
    "plt.figure()\n",
    "z = [6,7,14]\n",
    "for z0 in z:\n",
    "    z_mks = z00 + dz_mks*z0\n",
    "    ln,power = get_spectral_power(z0,0.0)\n",
    "    plt.plot(ln,spcal*power*1e6,label='{:.1f} cm'.format(z_mks*100))\n",
    "plt.xlim(1.5,max_microns)\n",
    "plt.ylim(0,1.0)\n",
    "plt.xlabel('Wavelength ($\\mu$m)')\n",
    "plt.ylabel('Spectral Power ($\\mu$J/um)')\n",
    "plt.legend()"
   ]
  },
  {
   "cell_type": "code",
   "execution_count": 29,
   "metadata": {},
   "outputs": [
    {
     "data": {
      "application/vnd.jupyter.widget-view+json": {
       "model_id": "bd5dfc1d83b64937b8a30236cedc10ca",
       "version_major": 2,
       "version_minor": 0
      },
      "text/plain": [
       "Canvas(toolbar=Toolbar(toolitems=[('Home', 'Reset original view', 'home', 'home'), ('Back', 'Back to previous …"
      ]
     },
     "metadata": {},
     "output_type": "display_data"
    },
    {
     "data": {
      "text/plain": [
       "Text(0, 0.5, 'Energy ($\\\\mu$J)')"
      ]
     },
     "execution_count": 29,
     "metadata": {},
     "output_type": "execute_result"
    }
   ],
   "source": [
    "z = np.linspace(z00,z00+dz_mks*(Nz-1),Nz)\n",
    "LWIR_energy = np.zeros(Nz)\n",
    "for z0 in range(15):\n",
    "    ln,power = get_spectral_power(z0,0.0)\n",
    "    low_idx = np.searchsorted(ln,6)\n",
    "    high_idx = np.searchsorted(ln,14)\n",
    "    LWIR_energy[z0] = np.sum(power[low_idx:high_idx]*spcal*1e6)*(ln[1]-ln[0])\n",
    "\n",
    "plt.figure()\n",
    "plt.plot(100*z,LWIR_energy)\n",
    "plt.xlabel('$z$ (cm)')\n",
    "plt.ylabel('Energy ($\\mu$J)')"
   ]
  },
  {
   "cell_type": "code",
   "execution_count": 34,
   "metadata": {},
   "outputs": [
    {
     "data": {
      "application/vnd.jupyter.widget-view+json": {
       "model_id": "9dd7f30d60094d35a30ae3cbf734c953",
       "version_major": 2,
       "version_minor": 0
      },
      "text/plain": [
       "Canvas(toolbar=Toolbar(toolitems=[('Home', 'Reset original view', 'home', 'home'), ('Back', 'Back to previous …"
      ]
     },
     "metadata": {},
     "output_type": "display_data"
    },
    {
     "data": {
      "text/plain": [
       "<matplotlib.legend.Legend at 0x7f3657a73970>"
      ]
     },
     "execution_count": 34,
     "metadata": {},
     "output_type": "execute_result"
    }
   ],
   "source": [
    "plt.figure()\n",
    "for rm in list(np.linspace(0.0/mks_length,.002/mks_length,5)):\n",
    "    ln,power = get_spectral_power(5,rm)\n",
    "    plt.plot(ln,spcal*power*1e6,label='{:.2f} cm'.format(rm*mks_length*100))\n",
    "plt.xlim(1.5,14)\n",
    "plt.ylim(0,1.0)\n",
    "plt.xlabel('Wavelength ($\\mu$m)')\n",
    "plt.ylabel('Spectral Power ($\\mu$J/um)')\n",
    "plt.legend()"
   ]
  },
  {
   "cell_type": "code",
   "execution_count": null,
   "metadata": {},
   "outputs": [],
   "source": []
  }
 ],
 "metadata": {
  "kernelspec": {
   "display_name": "Python 3",
   "language": "python",
   "name": "python3"
  },
  "language_info": {
   "codemirror_mode": {
    "name": "ipython",
    "version": 3
   },
   "file_extension": ".py",
   "mimetype": "text/x-python",
   "name": "python",
   "nbconvert_exporter": "python",
   "pygments_lexer": "ipython3",
   "version": "3.8.2"
  }
 },
 "nbformat": 4,
 "nbformat_minor": 4
}

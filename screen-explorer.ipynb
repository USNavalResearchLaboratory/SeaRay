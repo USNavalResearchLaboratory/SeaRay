{
 "cells": [
  {
   "cell_type": "code",
   "execution_count": 3,
   "metadata": {
    "scrolled": false
   },
   "outputs": [
    {
     "data": {
      "application/vnd.jupyter.widget-view+json": {
       "model_id": "5c42c70a674342288192a44670748f69",
       "version_major": 2,
       "version_minor": 0
      },
      "text/plain": [
       "Canvas(toolbar=Toolbar(toolitems=[('Home', 'Reset original view', 'home', 'home'), ('Back', 'Back to previous …"
      ]
     },
     "metadata": {},
     "output_type": "display_data"
    }
   ],
   "source": [
    "import scipy.stats\n",
    "import numpy as np\n",
    "import matplotlib as mpl\n",
    "import matplotlib.pyplot as plt\n",
    "import grid_tools\n",
    "%matplotlib widget\n",
    "l1 = 0.8e-6/(2*np.pi)\n",
    "rbox = 1.5e-3\n",
    "dx = 2*rbox/256/l1\n",
    "N = (128,128)\n",
    "k0 = .003\n",
    "km = .01\n",
    "kcx = np.pi/dx\n",
    "kcy = np.pi/dx\n",
    "kx = np.fft.ifftshift(grid_tools.cyclic_nodes(-kcx,kcx,N[0])).astype(np.double)\n",
    "ky = np.fft.ifftshift(grid_tools.cyclic_nodes(-kcy,kcy,N[1])).astype(np.double)\n",
    "k2 = np.outer(kx**2,np.ones(N[1])) + np.outer(np.ones(N[0]),ky**2)\n",
    "screen = np.exp(-k2/km**2)*(0j+k2+k0**2)**(-11/6)\n",
    "pos = lambda i : slice(1,int(N[i]/2))\n",
    "neg = lambda i : slice(int(N[i]/2)+1,N[i])\n",
    "crit = lambda i : int(N[i]/2)\n",
    "screen *= np.random.random(N)-0.5 + 1j*np.random.random(N)-0.5j\n",
    "screen[neg(0),neg(1)] = np.conj(screen[pos(0),pos(1)][::-1,::-1])\n",
    "screen[neg(0),pos(1)] = np.conj(screen[pos(0),neg(1)][::-1,::-1])\n",
    "screen[0,:] = 0\n",
    "screen[:,0] = 0\n",
    "screen[crit(0),:] = np.real(screen[crit(0),:])\n",
    "screen[:,crit(1)] = np.real(screen[:,crit(1)])\n",
    "screen = np.fft.ifft(np.fft.ifft(screen,axis=0),axis=1)\n",
    "screen /= np.max(np.abs(screen))\n",
    "plt.figure(figsize=(10,5))\n",
    "plt.subplot(121)\n",
    "plt.imshow(np.real(screen),origin='lower',cmap='bwr')\n",
    "plt.colorbar()\n",
    "plt.subplot(122)\n",
    "plt.imshow(np.imag(screen),origin='lower',cmap='bwr')\n",
    "plt.colorbar()\n",
    "plt.show()"
   ]
  },
  {
   "cell_type": "code",
   "execution_count": null,
   "metadata": {},
   "outputs": [],
   "source": []
  },
  {
   "cell_type": "code",
   "execution_count": null,
   "metadata": {},
   "outputs": [],
   "source": []
  },
  {
   "cell_type": "code",
   "execution_count": null,
   "metadata": {},
   "outputs": [],
   "source": []
  }
 ],
 "metadata": {
  "kernelspec": {
   "display_name": "Python 3",
   "language": "python",
   "name": "python3"
  },
  "language_info": {
   "codemirror_mode": {
    "name": "ipython",
    "version": 3
   },
   "file_extension": ".py",
   "mimetype": "text/x-python",
   "name": "python",
   "nbconvert_exporter": "python",
   "pygments_lexer": "ipython3",
   "version": "3.8.2"
  }
 },
 "nbformat": 4,
 "nbformat_minor": 4
}

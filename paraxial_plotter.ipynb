{
 "cells": [
  {
   "cell_type": "code",
   "execution_count": 14,
   "metadata": {},
   "outputs": [
    {
     "name": "stdout",
     "output_type": "stream",
     "text": [
      "(100,)\n"
     ]
    }
   ],
   "source": [
    "import numpy as np\n",
    "import dispersion\n",
    "from scipy import constants as C\n",
    "import matplotlib.pyplot as plt\n",
    "\n",
    "w = np.linspace(2.0*np.pi*C.c/0.35e-6,2.0*np.pi*C.c/0.65e-6,100)\n",
    "print(w.shape)\n",
    "#chi = dispersion.LiquidWater.chi(w)\n",
    "#plt.plot(w,chi)"
   ]
  },
  {
   "cell_type": "code",
   "execution_count": 2,
   "metadata": {},
   "outputs": [
    {
     "data": {
      "application/vnd.jupyter.widget-view+json": {
       "model_id": "476eadde7091429899d72066923e7bf1"
      }
     },
     "metadata": {},
     "output_type": "display_data"
    }
   ],
   "source": [
    "import numpy as np\n",
    "import matplotlib.pyplot as plt\n",
    "import ipywidgets\n",
    "\n",
    "def disp_frame(frame):\n",
    "\n",
    "    amp = np.load('out/amp'+str(frame)+'.npy')\n",
    "    a_normalized = amp/np.max(np.abs(amp))\n",
    "    phase = np.angle(amp)\n",
    "    phase[np.where(np.abs(a_normalized)<.01)]=0\n",
    "    \n",
    "    fig_num = 0\n",
    "    fig_num += 1\n",
    "    plt.figure(fig_num,figsize=(6,7))\n",
    "\n",
    "    plt.subplot(211)\n",
    "    #plt.imshow(amp,origin='lower',cmap='jet',aspect='auto')\n",
    "    plt.imshow(np.abs(amp)**2,origin='lower',cmap='jet',aspect='auto',extent=[-1,1,0,1])\n",
    "    b=plt.colorbar()\n",
    "    b.set_label(r'$|a|^2$',size=18)\n",
    "    plt.xlabel(r'$\\tau$',size=18)\n",
    "    plt.ylabel(r'$\\rho$',size=18)\n",
    "\n",
    "    plt.subplot(212)\n",
    "    plt.imshow(phase,origin='lower',cmap='jet',aspect='auto',extent=[-1,1,0,1])\n",
    "    b=plt.colorbar()\n",
    "    b.set_label(r'$\\psi$',size=18)\n",
    "    plt.xlabel(r'$\\tau$',size=18)\n",
    "    plt.ylabel(r'$\\rho$',size=18)\n",
    "\n",
    "    plt.tight_layout()\n",
    "    \n",
    "    fig_num += 1\n",
    "    plt.figure(fig_num)\n",
    "    plt.plot(np.abs(amp[0,:])**2)\n",
    "    plt.xlabel(r'$\\tau$',size=18)\n",
    "    plt.ylabel(r'$|a|^2$',size=18)\n",
    "\n",
    "\n",
    "    plt.show()\n",
    "\n",
    "ipywidgets.interact(disp_frame,frame=ipywidgets.IntSlider(min=0,max=19,step=1,value=0));"
   ]
  },
  {
   "cell_type": "code",
   "execution_count": 30,
   "metadata": {},
   "outputs": [
    {
     "data": {
      "image/png": "[encoded data removed]",
      "text/plain": [
       "<matplotlib.figure.Figure at 0x10bbd75f8>"
      ]
     },
     "metadata": {},
     "output_type": "display_data"
    },
    {
     "data": {
      "image/png": "[encoded data removed]",
      "text/plain": [
       "<matplotlib.figure.Figure at 0x10cbec7f0>"
      ]
     },
     "metadata": {},
     "output_type": "display_data"
    }
   ],
   "source": [
    "import numpy as np\n",
    "import matplotlib.pyplot as plt\n",
    "import ipywidgets\n",
    "\n",
    "chiw0 = np.load('out/chiw0.npy')\n",
    "chiw = np.load('out/chiw.npy')\n",
    "chiw += np.outer(np.ones(chiw.shape[0]),chiw0)\n",
    "chiw = np.roll(chiw,np.int(chiw.shape[1]/2)-1,axis=1)\n",
    "\n",
    "fig_num = 0\n",
    "fig_num += 1\n",
    "plt.figure(fig_num,figsize=(6,4))\n",
    "\n",
    "plt.imshow(chiw,origin='lower',cmap='jet',aspect='auto',extent=[-1,1,0,1])\n",
    "b=plt.colorbar()\n",
    "b.set_label(r'$\\chi$',size=18)\n",
    "plt.xlabel(r'$\\delta\\omega$',size=18)\n",
    "plt.ylabel(r'$\\rho$',size=18)\n",
    "\n",
    "plt.tight_layout()\n",
    "\n",
    "fig_num += 1\n",
    "plt.figure(fig_num,figsize=(6,4))\n",
    "plt.plot(chiw[0,:])\n",
    "plt.xlabel(r'$\\delta\\omega$',size=18)\n",
    "plt.ylabel(r'$\\chi$',size=18)\n",
    "\n",
    "\n",
    "plt.show()"
   ]
  },
  {
   "cell_type": "code",
   "execution_count": null,
   "metadata": {
    "collapsed": true
   },
   "outputs": [],
   "source": []
  }
 ],
 "metadata": {
  "kernelspec": {
   "display_name": "Python 3",
   "language": "python",
   "name": "python3"
  },
  "language_info": {
   "codemirror_mode": {
    "name": "ipython",
    "version": 3
   },
   "file_extension": ".py",
   "mimetype": "text/x-python",
   "name": "python",
   "nbconvert_exporter": "python",
   "pygments_lexer": "ipython3",
   "version": "3.6.1"
  }
 },
 "nbformat": 4,
 "nbformat_minor": 2
}

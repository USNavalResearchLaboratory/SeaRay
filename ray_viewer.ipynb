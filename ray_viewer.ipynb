{
 "cells": [
  {
   "cell_type": "code",
   "execution_count": 2,
   "metadata": {},
   "outputs": [
    {
     "name": "stdout",
     "output_type": "stream",
     "text": [
      "(1, 256, 256, 31)\n"
     ]
    },
    {
     "data": {
      "application/vnd.jupyter.widget-view+json": {
       "model_id": "1c03a973b4cf48d6b4e2305626f75f78",
       "version_major": 2,
       "version_minor": 0
      },
      "text/plain": [
       "interactive(children=(IntSlider(value=0, continuous_update=False, description='frame', max=30), Output()), _do…"
      ]
     },
     "metadata": {},
     "output_type": "display_data"
    }
   ],
   "source": [
    "import numpy as np\n",
    "import matplotlib as mpl\n",
    "import matplotlib.pyplot as plt\n",
    "import ipywidgets\n",
    "from scipy import constants as C\n",
    "\n",
    "time_domain = False\n",
    "\n",
    "mpl.rcParams['text.usetex'] = True\n",
    "mpl.rcParams['font.size'] = 18\n",
    "l1_mm = 1e3*0.8e-6/(2*np.pi)\n",
    "t1_ps = 1e12*0.8e-6/(2*np.pi)/C.c\n",
    "hstr = r'$\\omega/\\omega_0$'\n",
    "vstr = r'$\\rho$ (mm)'\n",
    "\n",
    "A = np.load('out/test_vacuum_paraxial_wave.npy')\n",
    "print(A.shape)\n",
    "plot_ext = [-1.0,1.0,-1.0,1.0]\n",
    "#A = np.load('out/test_det_bess_wave.npy')\n",
    "#plot_ext = np.load('out/test_det_bess_plot_ext.npy')\n",
    "#plot_ext = np.concatenate((plot_ext[0:2],l1_mm*plot_ext[2:4]))\n",
    "if time_domain:\n",
    "    A = np.fft.ifftshift(A,axes=0)\n",
    "    A = np.conj(A)\n",
    "    A = np.fft.ifft(A,axis=0)\n",
    "    dw = (plot_ext[1]-plot_ext[0])/A.shape[0]\n",
    "    plot_ext[0] = 0.0\n",
    "    plot_ext[1] = t1_ps*2*np.pi/dw\n",
    "    hstr = r'$t-z/c$ (ps)'\n",
    "A2 = np.abs(A)**2\n",
    "#A2 = np.abs(A[...,0])**2 + np.abs(A[...,1])**2 + np.abs(A[...,2])**2\n",
    "peak = np.max(A2)\n",
    "\n",
    "#max_r_idx = 32\n",
    "#plot_ext[3] *= max_r_idx/A2.shape[1]\n",
    "\n",
    "def disp_frame(frame):\n",
    "\n",
    "    plt.figure(1,figsize=(10,7))\n",
    "    #plt.imshow(A2[:,:max_r_idx,0,frame].swapaxes(0,1),vmin=0,vmax=peak,origin='lower',cmap='viridis',aspect='auto',extent=plot_ext)\n",
    "    plt.imshow(A2[0,:,:,frame],origin='lower',cmap='viridis',aspect='auto',extent=plot_ext)\n",
    "    b=plt.colorbar()\n",
    "    b.set_label(r'$|a|^2$',size=24)\n",
    "    plt.xlabel(hstr,size=24)\n",
    "    plt.ylabel(vstr,size=24)\n",
    "\n",
    "    plt.tight_layout()\n",
    "    plt.show()\n",
    "\n",
    "ipywidgets.interact(disp_frame,frame=ipywidgets.IntSlider(min=0,max=A2.shape[3]-1,step=1,value=0,continuous_update=False));"
   ]
  },
  {
   "cell_type": "code",
   "execution_count": null,
   "metadata": {},
   "outputs": [],
   "source": []
  },
  {
   "cell_type": "code",
   "execution_count": null,
   "metadata": {},
   "outputs": [],
   "source": []
  }
 ],
 "metadata": {
  "kernelspec": {
   "display_name": "Python [default]",
   "language": "python",
   "name": "python3"
  },
  "language_info": {
   "codemirror_mode": {
    "name": "ipython",
    "version": 3
   },
   "file_extension": ".py",
   "mimetype": "text/x-python",
   "name": "python",
   "nbconvert_exporter": "python",
   "pygments_lexer": "ipython3",
   "version": "3.7.0"
  }
 },
 "nbformat": 4,
 "nbformat_minor": 2
}

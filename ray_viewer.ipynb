{
 "cells": [
  {
   "cell_type": "code",
   "execution_count": 4,
   "metadata": {
    "scrolled": false
   },
   "outputs": [
    {
     "name": "stdout",
     "output_type": "stream",
     "text": [
      "Shape of field array = (1024, 64, 1, 9)\n",
      "Bounding box = [-3.90625000e-03  7.99609375e+00  0.00000000e+00  3.00000000e-01]\n"
     ]
    },
    {
     "data": {
      "application/vnd.jupyter.widget-view+json": {
       "model_id": "23402427b2a146b28b75a7ca1a66ef6a",
       "version_major": 2,
       "version_minor": 0
      },
      "text/plain": [
       "interactive(children=(IntSlider(value=0, continuous_update=False, description='frame', max=8), Dropdown(descri…"
      ]
     },
     "metadata": {},
     "output_type": "display_data"
    }
   ],
   "source": [
    "import numpy as np\n",
    "import matplotlib as mpl\n",
    "import matplotlib.pyplot as plt\n",
    "import ipywidgets\n",
    "from scipy import constants as C\n",
    "import IPython.display\n",
    "\n",
    "base_diagnostic = 'out/test'\n",
    "searay_object_name = 'glass'\n",
    "#searay_wave_type = 'paraxial'\n",
    "searay_wave_type = 'uppe'\n",
    "\n",
    "mpl.rcParams['text.usetex'] = False\n",
    "mpl.rcParams['font.size'] = 18\n",
    "l1_mm = 1e3*0.8e-6/(2*np.pi)\n",
    "t1_ps = 1e12*0.8e-6/(2*np.pi)/C.c\n",
    "\n",
    "real_field = searay_wave_type=='uppe'\n",
    "\n",
    "A = np.load(base_diagnostic+'_'+searay_object_name+'_'+searay_wave_type+'_wave.npy')\n",
    "data_ext = np.load(base_diagnostic+'_'+searay_object_name+'_'+searay_wave_type+'_plot_ext.npy')\n",
    "data_ext = np.concatenate((data_ext[0:2],l1_mm*data_ext[2:4]))\n",
    "print('Shape of field array =',A.shape)\n",
    "print('Bounding box =',data_ext)\n",
    "\n",
    "frame_w = ipywidgets.IntSlider(min=0,max=A.shape[3]-1,step=1,value=0,continuous_update=False)\n",
    "disp_w = ipywidgets.Dropdown(options=['Falsecolor2D','Lineout'],value='Falsecolor2D',description='Display')\n",
    "rep_w = ipywidgets.Dropdown(options=['Time','Fourier'],value='Time',description='Representation')\n",
    "\n",
    "def get_freq_time_data(A,ext):\n",
    "    if real_field:\n",
    "        # Nodes are like [0,1,2,3] and walls are like [-0.5,0.5,1.5,2.5,3.5]\n",
    "        # In these examples the user's requested upper bound would be 4 (it is thrown out)\n",
    "        # Therefore element N/2+1 should be regarded as the central frequency\n",
    "        dw = (ext[1] - ext[0])/A.shape[0]\n",
    "        wc = 0.5*ext[0] + 0.5*(ext[1] + dw)\n",
    "        tmax = 2*np.pi/dw\n",
    "        return dw,wc,tmax\n",
    "    else:\n",
    "        # Nodes are like [-2,-1,0,1] and walls are like [-2.5,-1.5,-.5,.5,1.5]\n",
    "        dw = (ext[1] - ext[0])/A.shape[0]\n",
    "        wc = 0.5*ext[0] + 0.5*(ext[1] + dw)\n",
    "        tmax = 2*np.pi/dw\n",
    "        return dw,wc,tmax\n",
    "\n",
    "def change_rep_data(rep):\n",
    "    global plot_data,hstr,vstr,cstr,plot_ext\n",
    "    plot_ext = np.copy(data_ext)\n",
    "    if rep=='Time' and real_field:\n",
    "        dw,wc,tmax = get_freq_time_data(A,plot_ext)\n",
    "        plot_ext[0] = 0.0\n",
    "        plot_ext[1] = t1_ps*tmax\n",
    "        hstr = r'$t-z/c$ (ps)'\n",
    "        vstr = r'$x$ (mm)'\n",
    "        cstr = r'$A(t)$'\n",
    "        plot_data = np.fft.irfft(np.conj(A),axis=0)\n",
    "        # Shift the time reference to box center\n",
    "        # Note that time is referenced to the largest amplitude ray at the input surface\n",
    "        plot_data = np.roll(plot_data,int(plot_data.shape[0]/2),axis=0)\n",
    "    if rep=='Time' and not real_field:\n",
    "        dw,wc,tmax = get_freq_time_data(A,plot_ext)\n",
    "        plot_ext[0] = 0.0\n",
    "        plot_ext[1] = t1_ps*tmax\n",
    "        hstr = r'$t-z/c$ (ps)'\n",
    "        vstr = r'$x$ (mm)'\n",
    "        cstr = r'$|a|(t)$'\n",
    "        plot_data = np.abs(np.fft.ifft(np.fft.ifftshift(np.conj(A),axes=0),axis=0))\n",
    "        # Shift the time reference to box center\n",
    "        # Note that time is referenced to the largest amplitude ray at the input surface\n",
    "        plot_data = np.roll(plot_data,int(plot_data.shape[0]/2),axis=0)\n",
    "    if rep=='Fourier':\n",
    "        hstr = r'$\\omega/\\omega_0$'\n",
    "        vstr = r'$x$ (mm)'\n",
    "        cstr = r'$|a|(\\omega)$'\n",
    "        plot_data = np.abs(A)\n",
    "        #plot_data = np.log10(plot_data+1e-20)\n",
    "\n",
    "def change_rep(rep):\n",
    "    change_rep_data(rep)\n",
    "    disp_frame(frame_w.value,disp_w.value,rep)\n",
    "\n",
    "def disp_frame(frame,disp,rep):\n",
    "    tslice = np.int(A.shape[0]/2)\n",
    "    yslice = np.int(A.shape[2]/2)\n",
    "    plt.figure(1,figsize=(16,7))\n",
    "    if disp=='Lineout':\n",
    "        x = np.linspace(plot_ext[0],plot_ext[1],plot_data.shape[0])\n",
    "        plt.plot(x,plot_data[:,yslice,yslice,frame])\n",
    "        #x = np.linspace(plot_ext[2],plot_ext[3],plot_data.shape[1])\n",
    "        #plt.plot(x,plot_data[tslice+4,:,yslice,frame])\n",
    "    else:\n",
    "        plt.imshow(plot_data[:,:,yslice,frame].swapaxes(0,1),vmin=-.001,vmax=.001,origin='lower',cmap='viridis',aspect=1.0,extent=plot_ext)\n",
    "        #plt.imshow(plot_data[:,:,yslice,frame].swapaxes(0,1),vmin=np.min(plot_data),vmax=np.max(plot_data),origin='lower',cmap='viridis',aspect='auto',extent=plot_ext)\n",
    "        b=plt.colorbar()\n",
    "        b.set_label(cstr,size=24)\n",
    "    plt.xlabel(hstr,size=24)\n",
    "    plt.ylabel(vstr,size=24)\n",
    "    plt.tight_layout()\n",
    "    plt.show()\n",
    "\n",
    "rep_iw = ipywidgets.interactive(change_rep,rep=rep_w)\n",
    "disp_iw = ipywidgets.interactive(disp_frame,frame=frame_w,disp=disp_w,rep=rep_w)\n",
    "change_rep_data('Time')\n",
    "IPython.display.display(disp_iw)"
   ]
  },
  {
   "cell_type": "code",
   "execution_count": null,
   "metadata": {},
   "outputs": [],
   "source": []
  }
 ],
 "metadata": {
  "kernelspec": {
   "display_name": "Python 3",
   "language": "python",
   "name": "python3"
  },
  "language_info": {
   "codemirror_mode": {
    "name": "ipython",
    "version": 3
   },
   "file_extension": ".py",
   "mimetype": "text/x-python",
   "name": "python",
   "nbconvert_exporter": "python",
   "pygments_lexer": "ipython3",
   "version": "3.7.2"
  }
 },
 "nbformat": 4,
 "nbformat_minor": 2
}

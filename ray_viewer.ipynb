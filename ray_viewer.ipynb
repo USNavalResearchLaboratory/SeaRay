{
 "cells": [
  {
   "cell_type": "code",
   "execution_count": 3,
   "metadata": {
    "scrolled": false
   },
   "outputs": [
    {
     "name": "stdout",
     "output_type": "stream",
     "text": [
      "(64, 64, 64, 9)\n",
      "[ 0.30985113  1.66891352 -0.45836624  0.45836624]\n"
     ]
    },
    {
     "data": {
      "application/vnd.jupyter.widget-view+json": {
       "model_id": "13c837a1a336493a876c06c77faf5960",
       "version_major": 2,
       "version_minor": 0
      },
      "text/plain": [
       "interactive(children=(IntSlider(value=0, continuous_update=False, description='frame', max=8), Output()), _dom…"
      ]
     },
     "metadata": {},
     "output_type": "display_data"
    }
   ],
   "source": [
    "import numpy as np\n",
    "import matplotlib as mpl\n",
    "import matplotlib.pyplot as plt\n",
    "import ipywidgets\n",
    "from scipy import constants as C\n",
    "\n",
    "base_diagnostic = 'out/test'\n",
    "searay_object_name = 'vacuum'\n",
    "searay_wave_type = 'uppe'\n",
    "time_domain = True\n",
    "real_field = True\n",
    "\n",
    "mpl.rcParams['text.usetex'] = True\n",
    "mpl.rcParams['font.size'] = 18\n",
    "l1_mm = 1e3*0.8e-6/(2*np.pi)\n",
    "t1_ps = 1e12*0.8e-6/(2*np.pi)/C.c\n",
    "\n",
    "def get_freq_time_data(A,plot_ext):\n",
    "    # Nodes are like [-2,-1,0,1] and walls are like [-2.5,-1.5,-.5,.5,1.5]\n",
    "    dw = (plot_ext[1] - plot_ext[0])/A.shape[0]\n",
    "    wc = 0.5*plot_ext[0] + 0.5*(plot_ext[1] + dw)\n",
    "    tmax = 2*np.pi/dw\n",
    "    return dw,wc,tmax\n",
    "\n",
    "A = np.load(base_diagnostic+'_'+searay_object_name+'_'+searay_wave_type+'_wave.npy')\n",
    "plot_ext = np.load(base_diagnostic+'_'+searay_object_name+'_'+searay_wave_type+'_plot_ext.npy')\n",
    "plot_ext = np.concatenate((plot_ext[0:2],l1_mm*plot_ext[2:4]))\n",
    "print(A.shape)\n",
    "print(plot_ext)\n",
    "if time_domain and real_field:\n",
    "    coeff = (plot_ext[1] - plot_ext[0])/(2*np.pi)\n",
    "    A = coeff*np.fft.ifftshift(A,axes=0)\n",
    "    A = np.conj(A)\n",
    "    A = np.fft.ifft(A,axis=0)\n",
    "    dw,wc,tmax = get_freq_time_data(A,plot_ext)\n",
    "    plot_ext[0] = 0.0\n",
    "    plot_ext[1] = t1_ps*tmax\n",
    "    hstr = r'$t-z/c$ (ps)'\n",
    "    vstr = r'$\\rho$ (mm)'\n",
    "    cstr = r'$A(t)$'\n",
    "    t_nodes = np.linspace(0.0,tmax,A.shape[0])[...,np.newaxis,np.newaxis,np.newaxis]\n",
    "    plot_data = np.real(A*np.exp(-1j*wc*t_nodes))\n",
    "if time_domain and not real_field:\n",
    "    coeff = (plot_ext[1] - plot_ext[0])/(2*np.pi)\n",
    "    A = coeff*np.fft.ifftshift(A,axes=0)\n",
    "    A = np.conj(A)\n",
    "    A = np.fft.ifft(A,axis=0)\n",
    "    dw,wc,tmax = get_freq_time_data(A,plot_ext)\n",
    "    plot_ext[0] = 0.0\n",
    "    plot_ext[1] = t1_ps*tmax\n",
    "    hstr = r'$t-z/c$ (ps)'\n",
    "    vstr = r'$\\rho$ (mm)'\n",
    "    cstr = r'$|a|(t)$'\n",
    "    plot_data = np.abs(A)\n",
    "if not time_domain:\n",
    "    hstr = r'$\\omega/\\omega_0$'\n",
    "    vstr = r'$\\rho$ (mm)'\n",
    "    cstr = r'$|a|(\\omega)$'\n",
    "    plot_data = np.abs(A)\n",
    "\n",
    "def disp_frame(frame):\n",
    "\n",
    "    yslice = np.int(A.shape[2]/2)\n",
    "    plt.figure(1,figsize=(10,7))\n",
    "    plt.imshow(plot_data[:,:,yslice,frame].swapaxes(0,1),vmin=np.min(plot_data),vmax=np.max(plot_data),origin='lower',cmap='viridis',aspect='auto',extent=plot_ext)\n",
    "    b=plt.colorbar()\n",
    "    b.set_label(cstr,size=24)\n",
    "    plt.xlabel(hstr,size=24)\n",
    "    plt.ylabel(vstr,size=24)\n",
    "\n",
    "    plt.tight_layout()\n",
    "    plt.show()\n",
    "\n",
    "ipywidgets.interact(disp_frame,frame=ipywidgets.IntSlider(min=0,max=plot_data.shape[3]-1,step=1,value=0,continuous_update=False));"
   ]
  },
  {
   "cell_type": "code",
   "execution_count": null,
   "metadata": {},
   "outputs": [],
   "source": []
  }
 ],
 "metadata": {
  "kernelspec": {
   "display_name": "Python 3",
   "language": "python",
   "name": "python3"
  },
  "language_info": {
   "codemirror_mode": {
    "name": "ipython",
    "version": 3
   },
   "file_extension": ".py",
   "mimetype": "text/x-python",
   "name": "python",
   "nbconvert_exporter": "python",
   "pygments_lexer": "ipython3",
   "version": "3.6.7"
  }
 },
 "nbformat": 4,
 "nbformat_minor": 2
}
